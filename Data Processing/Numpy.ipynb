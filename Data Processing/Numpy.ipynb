{
  "nbformat": 4,
  "nbformat_minor": 0,
  "metadata": {
    "colab": {
      "provenance": [],
      "collapsed_sections": [
        "_YXTgABPYu5M",
        "I82JYUtMtw9e",
        "-qqJB-ltYh1F",
        "FU-QFAw8YBNf",
        "JlFGzHdwt4Pr",
        "Cqdk_xsO0kvL",
        "ohrObJRt4SbN",
        "sJ_lNLKI5Q2Z",
        "ECN7aD4S5MiA",
        "6zAGM_0x5c9D",
        "te34plFr56xE"
      ]
    },
    "kernelspec": {
      "name": "python3",
      "display_name": "Python 3"
    },
    "language_info": {
      "name": "python"
    }
  },
  "cells": [
    {
      "cell_type": "markdown",
      "source": [
        "# **PROGRAMMING WITH PYTHON - NUMPY**"
      ],
      "metadata": {
        "id": "ohrObJRt4SbN"
      }
    },
    {
      "cell_type": "code",
      "source": [
        "import numpy as np"
      ],
      "metadata": {
        "id": "YtcuIGzRyYwm"
      },
      "execution_count": 1,
      "outputs": []
    },
    {
      "cell_type": "code",
      "source": [
        "age = [15,30,40,53,35,50]\n",
        "weight = [98,76,96,102,85,65]\n",
        "height = [1.76,1.84,1.70,1.65,1.50,1.78]"
      ],
      "metadata": {
        "id": "TyoYG1B74fF5"
      },
      "execution_count": 31,
      "outputs": []
    },
    {
      "cell_type": "code",
      "source": [
        "[ (weight[i] / height[i] ** 2)  for i in range(6)]"
      ],
      "metadata": {
        "colab": {
          "base_uri": "https://localhost:8080/"
        },
        "id": "4XRVOseO4oZP",
        "outputId": "ad6ca01b-5da9-4f92-a703-b75181311ec3"
      },
      "execution_count": 33,
      "outputs": [
        {
          "output_type": "execute_result",
          "data": {
            "text/plain": [
              "[31.63739669421488,\n",
              " 22.448015122873343,\n",
              " 33.21799307958478,\n",
              " 37.46556473829202,\n",
              " 37.77777777777778,\n",
              " 20.515086478979924]"
            ]
          },
          "metadata": {},
          "execution_count": 33
        }
      ]
    },
    {
      "cell_type": "code",
      "source": [
        "list(map(lambda p,a: p/a**2,weight,height))"
      ],
      "metadata": {
        "colab": {
          "base_uri": "https://localhost:8080/"
        },
        "id": "WFsZK-Q9zwqh",
        "outputId": "58ab66dd-3c77-4082-c3c9-6a8342974c6b"
      },
      "execution_count": 34,
      "outputs": [
        {
          "output_type": "execute_result",
          "data": {
            "text/plain": [
              "[31.63739669421488,\n",
              " 22.448015122873343,\n",
              " 33.21799307958478,\n",
              " 37.46556473829202,\n",
              " 37.77777777777778,\n",
              " 20.515086478979924]"
            ]
          },
          "metadata": {},
          "execution_count": 34
        }
      ]
    },
    {
      "cell_type": "code",
      "source": [
        "#weight / height ** 2"
      ],
      "metadata": {
        "id": "WYCbrf_P4sik"
      },
      "execution_count": 35,
      "outputs": []
    },
    {
      "cell_type": "markdown",
      "source": [
        "## **Arrays**"
      ],
      "metadata": {
        "id": "ECN7aD4S5MiA"
      }
    },
    {
      "cell_type": "code",
      "source": [
        "np_weight = np.array(weight)\n",
        "np_height = np.array(height)"
      ],
      "metadata": {
        "id": "Lh-jmVy54z9j"
      },
      "execution_count": 36,
      "outputs": []
    },
    {
      "cell_type": "code",
      "source": [
        "np_weight / np_height ** 2"
      ],
      "metadata": {
        "id": "KLup6ASd46ry",
        "colab": {
          "base_uri": "https://localhost:8080/"
        },
        "outputId": "71649d12-da8f-428c-d227-fe2383e013a5"
      },
      "execution_count": 37,
      "outputs": [
        {
          "output_type": "execute_result",
          "data": {
            "text/plain": [
              "array([31.63739669, 22.44801512, 33.21799308, 37.46556474, 37.77777778,\n",
              "       20.51508648])"
            ]
          },
          "metadata": {},
          "execution_count": 37
        }
      ]
    },
    {
      "cell_type": "code",
      "source": [
        "np.array([100,\"number\"]) # Is considered as a single type"
      ],
      "metadata": {
        "id": "fO3TT_uo49iT",
        "colab": {
          "base_uri": "https://localhost:8080/"
        },
        "outputId": "72378dc7-e6f1-45da-895e-a2589c83cacf"
      },
      "execution_count": 38,
      "outputs": [
        {
          "output_type": "execute_result",
          "data": {
            "text/plain": [
              "array(['100', 'number'], dtype='<U21')"
            ]
          },
          "metadata": {},
          "execution_count": 38
        }
      ]
    },
    {
      "cell_type": "code",
      "source": [
        "np.array([True,\"number\"])"
      ],
      "metadata": {
        "id": "Y3H-bRnR5AK3",
        "colab": {
          "base_uri": "https://localhost:8080/"
        },
        "outputId": "0c28e357-e957-42b7-9375-b3e8f07dfcb2"
      },
      "execution_count": 40,
      "outputs": [
        {
          "output_type": "execute_result",
          "data": {
            "text/plain": [
              "array(['True', 'number'], dtype='<U6')"
            ]
          },
          "metadata": {},
          "execution_count": 40
        }
      ]
    },
    {
      "cell_type": "code",
      "source": [
        "np.array([True,False])"
      ],
      "metadata": {
        "id": "dXy3VcOH5DAQ",
        "colab": {
          "base_uri": "https://localhost:8080/"
        },
        "outputId": "7d342652-6077-4590-c4b5-f5bafb37db81"
      },
      "execution_count": 41,
      "outputs": [
        {
          "output_type": "execute_result",
          "data": {
            "text/plain": [
              "array([ True, False])"
            ]
          },
          "metadata": {},
          "execution_count": 41
        }
      ]
    },
    {
      "cell_type": "code",
      "source": [
        "np_weight < 70"
      ],
      "metadata": {
        "id": "kqar9hJI5Fhv",
        "colab": {
          "base_uri": "https://localhost:8080/"
        },
        "outputId": "4146f326-05d7-4403-c057-70b3c04b1c00"
      },
      "execution_count": 42,
      "outputs": [
        {
          "output_type": "execute_result",
          "data": {
            "text/plain": [
              "array([False, False, False, False, False,  True])"
            ]
          },
          "metadata": {},
          "execution_count": 42
        }
      ]
    },
    {
      "cell_type": "code",
      "source": [
        "np_weight[np_weight < 80]"
      ],
      "metadata": {
        "id": "kqEqZ_0N5JP8",
        "colab": {
          "base_uri": "https://localhost:8080/"
        },
        "outputId": "e82442a0-4dd0-4411-87fa-cdae83d84b59"
      },
      "execution_count": 43,
      "outputs": [
        {
          "output_type": "execute_result",
          "data": {
            "text/plain": [
              "array([76, 65])"
            ]
          },
          "metadata": {},
          "execution_count": 43
        }
      ]
    },
    {
      "cell_type": "markdown",
      "source": [
        "### **Types of Arrays**"
      ],
      "metadata": {
        "id": "6zAGM_0x5c9D"
      }
    },
    {
      "cell_type": "code",
      "source": [
        "np_age = np.array([15,30,40,53,35,50])\n",
        "np_weight = np.array([98,76,96,102,85,65])\n",
        "np_height = np.array([1.76,1.84,1.70,1.65,1.50,1.78])"
      ],
      "metadata": {
        "id": "5BPHwjNw5iD3"
      },
      "execution_count": 46,
      "outputs": []
    },
    {
      "cell_type": "code",
      "source": [
        "type(np_age),np_age.shape"
      ],
      "metadata": {
        "id": "xjY-tQLS5jtp",
        "colab": {
          "base_uri": "https://localhost:8080/"
        },
        "outputId": "e0b6a5da-aa09-4af1-c74b-e2644fc24fe9"
      },
      "execution_count": 47,
      "outputs": [
        {
          "output_type": "execute_result",
          "data": {
            "text/plain": [
              "(numpy.ndarray, (6,))"
            ]
          },
          "metadata": {},
          "execution_count": 47
        }
      ]
    },
    {
      "cell_type": "code",
      "source": [
        "np_2d = np.array([\n",
        "    [15,30,40,53,35,50],\n",
        "    [98,76,96,102,85,65]\n",
        "])\n",
        "\n",
        "np_2d.shape"
      ],
      "metadata": {
        "id": "coS0zXqv5mAI",
        "colab": {
          "base_uri": "https://localhost:8080/"
        },
        "outputId": "ea10b1b9-eac1-431a-dc7d-5dccc1c7ae27"
      },
      "execution_count": 48,
      "outputs": [
        {
          "output_type": "execute_result",
          "data": {
            "text/plain": [
              "(2, 6)"
            ]
          },
          "metadata": {},
          "execution_count": 48
        }
      ]
    },
    {
      "cell_type": "code",
      "source": [
        "np_2d[0][2],np_2d[0,2]"
      ],
      "metadata": {
        "id": "Tq7nlmtT5qZC",
        "colab": {
          "base_uri": "https://localhost:8080/"
        },
        "outputId": "40776f9c-d31e-44ea-ea84-58554e238199"
      },
      "execution_count": 49,
      "outputs": [
        {
          "output_type": "execute_result",
          "data": {
            "text/plain": [
              "(40, 40)"
            ]
          },
          "metadata": {},
          "execution_count": 49
        }
      ]
    },
    {
      "cell_type": "code",
      "source": [
        "np_2d[:,1:3]"
      ],
      "metadata": {
        "id": "WJd7-Nwx5srJ",
        "colab": {
          "base_uri": "https://localhost:8080/"
        },
        "outputId": "13986c27-7758-4927-98f6-95ae0a2201a4"
      },
      "execution_count": 50,
      "outputs": [
        {
          "output_type": "execute_result",
          "data": {
            "text/plain": [
              "array([[30, 40],\n",
              "       [76, 96]])"
            ]
          },
          "metadata": {},
          "execution_count": 50
        }
      ]
    },
    {
      "cell_type": "code",
      "source": [
        "np_2d[:,0],np_2d[:,1]"
      ],
      "metadata": {
        "id": "DlUWdbcj5w4b",
        "colab": {
          "base_uri": "https://localhost:8080/"
        },
        "outputId": "4e727dfa-99ac-4f5a-f69a-2ffbee0f8557"
      },
      "execution_count": 51,
      "outputs": [
        {
          "output_type": "execute_result",
          "data": {
            "text/plain": [
              "(array([15, 98]), array([30, 76]))"
            ]
          },
          "metadata": {},
          "execution_count": 51
        }
      ]
    },
    {
      "cell_type": "code",
      "source": [
        "np.corrcoef(np_2d[0,:],np_2d[1,:])"
      ],
      "metadata": {
        "id": "tLIL8z3N5vbA",
        "colab": {
          "base_uri": "https://localhost:8080/"
        },
        "outputId": "f3327d40-fdf5-45e4-87e5-f20692a5fef6"
      },
      "execution_count": 52,
      "outputs": [
        {
          "output_type": "execute_result",
          "data": {
            "text/plain": [
              "array([[ 1.        , -0.17948175],\n",
              "       [-0.17948175,  1.        ]])"
            ]
          },
          "metadata": {},
          "execution_count": 52
        }
      ]
    },
    {
      "cell_type": "code",
      "source": [
        "np.std(np_weight)"
      ],
      "metadata": {
        "id": "JA8qlpMq5yzi",
        "colab": {
          "base_uri": "https://localhost:8080/"
        },
        "outputId": "30d43a4b-22cc-4b93-d3e4-046ca147a8e6"
      },
      "execution_count": 53,
      "outputs": [
        {
          "output_type": "execute_result",
          "data": {
            "text/plain": [
              "13.140268896284683"
            ]
          },
          "metadata": {},
          "execution_count": 53
        }
      ]
    },
    {
      "cell_type": "code",
      "source": [
        "np.mean(np_weight)"
      ],
      "metadata": {
        "colab": {
          "base_uri": "https://localhost:8080/"
        },
        "id": "WMh8u6We2Nm_",
        "outputId": "d6b0e8b2-e0dc-49cf-d01c-0beeba4a92ef"
      },
      "execution_count": 54,
      "outputs": [
        {
          "output_type": "execute_result",
          "data": {
            "text/plain": [
              "87.0"
            ]
          },
          "metadata": {},
          "execution_count": 54
        }
      ]
    },
    {
      "cell_type": "code",
      "source": [
        "np.sum(np_weight)"
      ],
      "metadata": {
        "id": "15cwgbiF50S4",
        "colab": {
          "base_uri": "https://localhost:8080/"
        },
        "outputId": "7065791a-5822-407b-8170-77b574019cf9"
      },
      "execution_count": 55,
      "outputs": [
        {
          "output_type": "execute_result",
          "data": {
            "text/plain": [
              "522"
            ]
          },
          "metadata": {},
          "execution_count": 55
        }
      ]
    },
    {
      "cell_type": "code",
      "source": [
        "np.sort(np_weight)"
      ],
      "metadata": {
        "id": "SMwGiyPr512X",
        "colab": {
          "base_uri": "https://localhost:8080/"
        },
        "outputId": "ee55cede-98a2-411f-f531-1fae465f03b3"
      },
      "execution_count": 56,
      "outputs": [
        {
          "output_type": "execute_result",
          "data": {
            "text/plain": [
              "array([ 65,  76,  85,  96,  98, 102])"
            ]
          },
          "metadata": {},
          "execution_count": 56
        }
      ]
    },
    {
      "cell_type": "markdown",
      "source": [
        "### **Data Generator**"
      ],
      "metadata": {
        "id": "te34plFr56xE"
      }
    },
    {
      "cell_type": "code",
      "source": [
        "r_height = np.round(np.random.normal(1.75,0.20,1000),2)\n",
        "r_weight = np.round(np.random.normal(70.5,15,1000),2)"
      ],
      "metadata": {
        "id": "S_JJQAIO5_ZC"
      },
      "execution_count": 57,
      "outputs": []
    },
    {
      "cell_type": "code",
      "source": [
        "imc_np = np.column_stack((r_height,r_weight));imc_np"
      ],
      "metadata": {
        "id": "Iyjwkcfr6A0Z",
        "colab": {
          "base_uri": "https://localhost:8080/"
        },
        "outputId": "d1d43108-3cd6-4d2c-b055-c5e298036c51"
      },
      "execution_count": 58,
      "outputs": [
        {
          "output_type": "execute_result",
          "data": {
            "text/plain": [
              "array([[ 2.2 , 67.17],\n",
              "       [ 1.42, 45.06],\n",
              "       [ 1.66, 60.25],\n",
              "       ...,\n",
              "       [ 1.55, 65.09],\n",
              "       [ 1.74, 45.14],\n",
              "       [ 1.93, 56.63]])"
            ]
          },
          "metadata": {},
          "execution_count": 58
        }
      ]
    },
    {
      "cell_type": "code",
      "source": [
        "np.ones((10,10))"
      ],
      "metadata": {
        "colab": {
          "base_uri": "https://localhost:8080/"
        },
        "id": "Vnq0bx1x3kws",
        "outputId": "fe50bb90-b6e8-42c5-e0e4-67bab7b8dba9"
      },
      "execution_count": 28,
      "outputs": [
        {
          "output_type": "execute_result",
          "data": {
            "text/plain": [
              "array([[1., 1., 1., 1., 1., 1., 1., 1., 1., 1.],\n",
              "       [1., 1., 1., 1., 1., 1., 1., 1., 1., 1.],\n",
              "       [1., 1., 1., 1., 1., 1., 1., 1., 1., 1.],\n",
              "       [1., 1., 1., 1., 1., 1., 1., 1., 1., 1.],\n",
              "       [1., 1., 1., 1., 1., 1., 1., 1., 1., 1.],\n",
              "       [1., 1., 1., 1., 1., 1., 1., 1., 1., 1.],\n",
              "       [1., 1., 1., 1., 1., 1., 1., 1., 1., 1.],\n",
              "       [1., 1., 1., 1., 1., 1., 1., 1., 1., 1.],\n",
              "       [1., 1., 1., 1., 1., 1., 1., 1., 1., 1.],\n",
              "       [1., 1., 1., 1., 1., 1., 1., 1., 1., 1.]])"
            ]
          },
          "metadata": {},
          "execution_count": 28
        }
      ]
    },
    {
      "cell_type": "code",
      "source": [
        "np.random.seed(45)\n",
        "np_rand = np.random.rand(10)*10\n",
        "np_unos = np.ones(10)"
      ],
      "metadata": {
        "id": "bydghNDI6Ejd"
      },
      "execution_count": 59,
      "outputs": []
    },
    {
      "cell_type": "code",
      "source": [
        "(np_rand, np_unos)"
      ],
      "metadata": {
        "id": "KFtmVLbXj3Ex",
        "outputId": "8e427370-56a7-4298-db61-72219f8bdd8c",
        "colab": {
          "base_uri": "https://localhost:8080/"
        }
      },
      "execution_count": 63,
      "outputs": [
        {
          "output_type": "execute_result",
          "data": {
            "text/plain": [
              "(array([9.89011513, 5.49544727, 2.81447302, 0.77289566, 4.44469496,\n",
              "        4.7280797 , 0.48522001, 1.63324448, 1.15950711, 6.27391683]),\n",
              " array([1., 1., 1., 1., 1., 1., 1., 1., 1., 1.]))"
            ]
          },
          "metadata": {},
          "execution_count": 63
        }
      ]
    },
    {
      "cell_type": "code",
      "source": [
        "a = np.linspace(1994,2022,20)\n",
        "b = np.random.normal(12,33,20)"
      ],
      "metadata": {
        "id": "0T5gZ07K6HKb"
      },
      "execution_count": 60,
      "outputs": []
    },
    {
      "cell_type": "code",
      "source": [
        "(a, b)"
      ],
      "metadata": {
        "id": "-DLFcf-IkKqB",
        "outputId": "4be91f61-bf9a-40ad-af5a-4574fdb04246",
        "colab": {
          "base_uri": "https://localhost:8080/"
        }
      },
      "execution_count": 65,
      "outputs": [
        {
          "output_type": "execute_result",
          "data": {
            "text/plain": [
              "(array([1994.        , 1995.47368421, 1996.94736842, 1998.42105263,\n",
              "        1999.89473684, 2001.36842105, 2002.84210526, 2004.31578947,\n",
              "        2005.78947368, 2007.26315789, 2008.73684211, 2010.21052632,\n",
              "        2011.68421053, 2013.15789474, 2014.63157895, 2016.10526316,\n",
              "        2017.57894737, 2019.05263158, 2020.52631579, 2022.        ]),\n",
              " array([ 25.00439767,  42.85848295,  11.48240465,  20.56666689,\n",
              "        -36.61936996,  38.46357767, -45.77482876,  -4.33671374,\n",
              "        -21.28382671,  12.83305813,   7.9902738 , -39.046815  ,\n",
              "         -8.02915113, -33.99581819,  -8.71395132,  22.97686109,\n",
              "        -38.86510578,  67.11989407,  -4.48501356,  34.21325583]))"
            ]
          },
          "metadata": {},
          "execution_count": 65
        }
      ]
    }
  ]
}