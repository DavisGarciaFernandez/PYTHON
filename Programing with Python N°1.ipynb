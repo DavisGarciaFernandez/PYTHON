{
 "cells": [
  {
   "cell_type": "markdown",
   "id": "9590fef4",
   "metadata": {},
   "source": [
    "## PROGRAMING WITH PYTHON"
   ]
  },
  {
   "cell_type": "markdown",
   "id": "5eb4e526",
   "metadata": {},
   "source": [
    "#### PROBLEM 1"
   ]
  },
  {
   "cell_type": "markdown",
   "id": "b1d17a0d",
   "metadata": {},
   "source": [
    "###### Make a program that contains a list with 10 integer values. Report how many of them are greater than 100."
   ]
  },
  {
   "cell_type": "code",
   "execution_count": null,
   "id": "ceae7b65",
   "metadata": {},
   "outputs": [],
   "source": [
    "list = [56, 102, 78, 400, 25, 90, 200, 150, 10, 300]\n",
    "\n",
    "counter = 0\n",
    "\n",
    "for value in list:\n",
    "    if value > 100:\n",
    "        counter += 1\n",
    "        \n",
    "print(\"There are\", counter, \"numbers greater than 100 in the list.\")"
   ]
  },
  {
   "cell_type": "markdown",
   "id": "ca01acfb",
   "metadata": {},
   "source": [
    "### PROBLEMA 2"
   ]
  },
  {
   "cell_type": "markdown",
   "id": "efe74c4d",
   "metadata": {},
   "source": [
    "##### A company divides work into two shifts (morning and afternoon) in which 6 employees work (3/shift). Group employee salaries into two lists and then display the lists via console."
   ]
  },
  {
   "cell_type": "code",
   "execution_count": null,
   "id": "a73a08fa",
   "metadata": {},
   "outputs": [],
   "source": [
    "salarie = [5000, 6000, 7000, 8000, 9000, 10000]\n",
    "\n",
    "morning = salarie[0:3]\n",
    "afternoon = salarie[3:6]\n",
    "\n",
    "print(\"Salaries of morning shift employees: \", morning)\n",
    "print(\"Salaries of afternoon shift employees: \", afternoon)"
   ]
  },
  {
   "cell_type": "markdown",
   "id": "bba78c3c",
   "metadata": {},
   "source": [
    "### PROBLEM 3"
   ]
  },
  {
   "cell_type": "markdown",
   "id": "f1b6eef0",
   "metadata": {},
   "source": [
    "##### Create a program that allows you to create a list and store the names of n countries. Sort the list alphabetically and print it."
   ]
  },
  {
   "cell_type": "code",
   "execution_count": null,
   "id": "5f194a2a",
   "metadata": {},
   "outputs": [],
   "source": [
    "N = int(input(\"Enter the number of countries: \"))\n",
    "\n",
    "countries = []\n",
    "\n",
    "for i in range(N):\n",
    "    country = input(\"Enter the name of country: \")\n",
    "    countries.append(country)\n",
    "\n",
    "countries.sort()\n",
    "\n",
    "print(\"List of countries arranged alphabetically: \")\n",
    "for country in countries:\n",
    "    print(country)"
   ]
  },
  {
   "cell_type": "markdown",
   "id": "2a7a3636",
   "metadata": {},
   "source": [
    "### PROBLEM 4"
   ]
  },
  {
   "cell_type": "markdown",
   "id": "ddb31e19",
   "metadata": {},
   "source": [
    "##### Create a program that allows loading a list of n integer elements. Order it from largest to smallest and print the results obtained. Also report the largest number and the smallest number."
   ]
  },
  {
   "cell_type": "code",
   "execution_count": null,
   "id": "e6cc8747",
   "metadata": {},
   "outputs": [],
   "source": [
    "n = int(input(\"Enter the number of items you want to enter: \"))\n",
    "\n",
    "list = []\n",
    "\n",
    "for i in range(n):\n",
    "    element = int(input(\"Enter an item:\"))\n",
    "    list.append(element)\n",
    "\n",
    "list_ordered = sorted(list, reverse=True)\n",
    "\n",
    "print(\"The list ordered from largest to smallest is:\")\n",
    "print(list_ordered)\n",
    "\n",
    "number_large = max(list)\n",
    "number_small = min(list)\n",
    "\n",
    "print(\"The largest number on the list is:\", number_large)\n",
    "print(\"The smallest number on the list is:\", number_small)"
   ]
  },
  {
   "cell_type": "markdown",
   "id": "c3a02c9b",
   "metadata": {},
   "source": [
    "### PROBLEM 5"
   ]
  },
  {
   "cell_type": "markdown",
   "id": "732569f5",
   "metadata": {},
   "source": [
    "##### Carry out a program that allows you to load n countries and the number of inhabitants residing in each one. Print each country with its corresponding number of inhabitants."
   ]
  },
  {
   "cell_type": "code",
   "execution_count": null,
   "id": "8f8ac469",
   "metadata": {},
   "outputs": [],
   "source": [
    "n = int(input(\"Enter the number of countries you want to enter:\"))\n",
    "\n",
    "countries = {}\n",
    "\n",
    "for i in range(n):\n",
    "    country = input(\"Enter a country: \")\n",
    "    inhabitants = int(input(\"Enter the number of inhabitants of {}:\".format(country)))\n",
    "    countries[country] = inhabitants\n",
    "\n",
    "print(\"Countries and their corresponding number of inhabitants:\")\n",
    "for country, inhabitants in countries.items():\n",
    "    print(\"{} - {} inhabitants\".format(country, inhabitants))"
   ]
  }
 ],
 "metadata": {
  "kernelspec": {
   "display_name": "Python 3 (ipykernel)",
   "language": "python",
   "name": "python3"
  },
  "language_info": {
   "codemirror_mode": {
    "name": "ipython",
    "version": 3
   },
   "file_extension": ".py",
   "mimetype": "text/x-python",
   "name": "python",
   "nbconvert_exporter": "python",
   "pygments_lexer": "ipython3",
   "version": "3.11.4"
  }
 },
 "nbformat": 4,
 "nbformat_minor": 5
}
